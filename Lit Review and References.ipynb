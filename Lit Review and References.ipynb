{
 "cells": [
  {
   "attachments": {},
   "cell_type": "markdown",
   "metadata": {},
   "source": [
    "## Literature Review\n",
    "\n",
    "Nåfält (2016) and Renner (2015) both used a combination of slope and aspect derived from DEM data (along with several other factors) to generate an avalanche predictor score to varying degrees of success. While our study focused on using these two values to derive an avalanche score, the integration of curvature in both studies yielded a correlation stronger than just slope and aspect. Colorado Avalanche Center (2015) generated a histogram of slope angles compared to avalanche frequency and found that 94% of avalanches occur on slopes between 30 and 50 degrees. This signaled that the slope angle has the greatest impact on an avalanche.\n",
    "\n",
    "Suk and Klimánek (2011) and Barlow and Franklin (2008) both use DEM and NDVI to perform supervised classifications to determine where avalanche paths may occur in the Krkonoše Mountains in Czechoslovakia and the Canadian Rockies, respectively. Both studies found that they were able to create maps that corresponded to real situations with Barlow and Franklin reporting an 80% accuracy. The analysis in these studies was slightly different from ours in that we used the NDVI to try and determine where avalanches had occurred instead of using it to determine where avalanches would not occur, as these studies did. Both studies chose a site location that already had the known avalanche paths mapped for validation of their work.\n",
    "Nåfält (2016) also used a method in order to separate out the start zone of the avalanche from the runout, as well as using ground vegetation classification, which while not yielding a statistically different predictor for avalanches, could be leveraged by our NDVI analysis in order to maximize the differences in vegetation by studying areas with a higher density of trees rather than lower growth vegetation and studying specifically the run-out zones.\n",
    "\n",
    "Most studies aiming to determine a predictor for avalanche activity using remote sensing data beyond DEM-derived calculations have yielded inconclusive results, furthering the idea of avalanche risk and occurrence most accurately determined through field observations."
   ]
  },
  {
   "attachments": {},
   "cell_type": "markdown",
   "metadata": {},
   "source": [
    "## References\n",
    "\n",
    "Suk, P. and M. Klimánek. (2011). Creation of the snow avalanche susceptibility map of the Krkonoše Mountains using GIS. Acta Universitatis Agriculturae et Silviculturae Mendelianae Brunensis, 59(5), 237-246.\n",
    "\n",
    "Barlow, J., & Franklin, S. E. (2008). Mapping snow avalanche chutes in the Canadian Rockies using Landsat TM and DEM data. Canadian Journal of Remote Sensing, 34(6), 516-525.\n",
    "\n",
    "Nåfält, S. (2016). Assessing avalanche risk by terrain analysis: An experimental GIS-approach to The Avalanche Terrain Exposure Scale (ATES). Department of Physical Geography and Ecosystem Science Lund University.\n",
    "\n",
    "Renner, K. (2015). Avalanche Risk Terran Susceptibility. Utah State University Department of Geography.\n",
    "\n",
    "Colorado Avalanche Information Center. “Statistics and Reporting.” Colorado Avalanche Information Center. Web. 27 Nov. 2018"
   ]
  },
  {
   "cell_type": "code",
   "execution_count": null,
   "metadata": {},
   "outputs": [],
   "source": []
  }
 ],
 "metadata": {
  "kernelspec": {
   "display_name": "Python [conda env:earth-analytics-python]",
   "language": "python",
   "name": "conda-env-earth-analytics-python-py"
  },
  "language_info": {
   "codemirror_mode": {
    "name": "ipython",
    "version": 3
   },
   "file_extension": ".py",
   "mimetype": "text/x-python",
   "name": "python",
   "nbconvert_exporter": "python",
   "pygments_lexer": "ipython3",
   "version": "3.6.6"
  }
 },
 "nbformat": 4,
 "nbformat_minor": 2
}
