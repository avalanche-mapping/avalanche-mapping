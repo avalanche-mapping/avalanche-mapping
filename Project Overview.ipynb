{
 "cells": [
  {
   "cell_type": "markdown",
   "metadata": {},
   "source": [
    "## Quantifying avalanche paths in the Sierra Nevada\n",
    "\n",
    "### Develop a model that can quantify the path and intensity of avalanches that occur in the Sierra Nevada backcountry. \n",
    "\n",
    "1) Use a combination of case studies of individual avalanche events and high-resolution winter aerial imagery (if available) combined with existing avalanche path shapefiles to determine the relationship between multispectral imagery and vegetation health in known avalanche paths.  The result of this step should allow us to categorize at-or-below shrub/tree line areas as avalanche paths or not avalanche paths.\n",
    "\n",
    "2) From this relationship, use aerial data to analyze the terrain and vegetation in and around the Sierra Nevada mountain range, specifically looking at the winter of 2016-2017 for which NAIP data is available before and after for much of the range.\n",
    "\n",
    "3) If time permits, develop a physical model that can determine start zones for avalanches based on DEM data.\n",
    "\n",
    "4) If time permits, extend our model from step 1 to classify different intensities of avalanches based on the extent of damage found below tree line."
   ]
  },
  {
   "cell_type": "markdown",
   "metadata": {},
   "source": [
    "Background reading:\n",
    "San Juan avalanche study (90's): https://arc.lib.montana.edu/snow-science/objects/issw-1994-532-536.pdf\n",
    "Regional snow-avalanche detection (using remote sensing): https://www.nat-hazards-earth-syst-sci.net/17/1823/2017/nhess-17-1823-2017.pdf\n"
   ]
  },
  {
   "cell_type": "markdown",
   "metadata": {},
   "source": [
    "Initial research on case study options:"
   ]
  },
  {
   "cell_type": "markdown",
   "metadata": {},
   "source": [
    "\n",
    "\n",
    "### Cottonwood, Utah\n",
    "Shapefile resource\n",
    "Lidar data of region\n"
   ]
  },
  {
   "cell_type": "markdown",
   "metadata": {},
   "source": [
    "Thoughts on procedure:\n",
    "LIDAR: Determine a CHM based on lidar data to determine where exposed trees would likely lie\n"
   ]
  },
  {
   "cell_type": "markdown",
   "metadata": {},
   "source": [
    "Basic object recognition:\n",
    "Calculate "
   ]
  }
 ],
 "metadata": {
  "kernelspec": {
   "display_name": "Python 3",
   "language": "python",
   "name": "python3"
  },
  "language_info": {
   "codemirror_mode": {
    "name": "ipython",
    "version": 3
   },
   "file_extension": ".py",
   "mimetype": "text/x-python",
   "name": "python",
   "nbconvert_exporter": "python",
   "pygments_lexer": "ipython3",
   "version": "3.6.5"
  }
 },
 "nbformat": 4,
 "nbformat_minor": 2
}
